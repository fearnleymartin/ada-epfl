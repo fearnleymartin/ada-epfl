{
 "cells": [
  {
   "cell_type": "code",
   "execution_count": 4,
   "metadata": {
    "collapsed": true
   },
   "outputs": [],
   "source": [
    "import pandas as pd\n",
    "import numpy as np"
   ]
  },
  {
   "cell_type": "code",
   "execution_count": 7,
   "metadata": {
    "collapsed": false
   },
   "outputs": [
    {
     "data": {
      "text/html": [
       "<div>\n",
       "<table border=\"1\" class=\"dataframe\">\n",
       "  <thead>\n",
       "    <tr style=\"text-align: right;\">\n",
       "      <th></th>\n",
       "      <th>University</th>\n",
       "      <th>Approved Amount</th>\n",
       "    </tr>\n",
       "  </thead>\n",
       "  <tbody>\n",
       "    <tr>\n",
       "      <th>0</th>\n",
       "      <td>Nicht zuteilbar - NA</td>\n",
       "      <td>11619.00</td>\n",
       "    </tr>\n",
       "    <tr>\n",
       "      <th>1</th>\n",
       "      <td>Université de Genève - GE</td>\n",
       "      <td>41022.00</td>\n",
       "    </tr>\n",
       "    <tr>\n",
       "      <th>2</th>\n",
       "      <td>NPO (Biblioth., Museen, Verwalt.) - NPO</td>\n",
       "      <td>79732.00</td>\n",
       "    </tr>\n",
       "    <tr>\n",
       "      <th>3</th>\n",
       "      <td>Universität Basel - BS</td>\n",
       "      <td>52627.00</td>\n",
       "    </tr>\n",
       "    <tr>\n",
       "      <th>4</th>\n",
       "      <td>NPO (Biblioth., Museen, Verwalt.) - NPO</td>\n",
       "      <td>120042.00</td>\n",
       "    </tr>\n",
       "  </tbody>\n",
       "</table>\n",
       "</div>"
      ],
      "text/plain": [
       "                                University Approved Amount\n",
       "0                     Nicht zuteilbar - NA        11619.00\n",
       "1                Université de Genève - GE        41022.00\n",
       "2  NPO (Biblioth., Museen, Verwalt.) - NPO        79732.00\n",
       "3                   Universität Basel - BS        52627.00\n",
       "4  NPO (Biblioth., Museen, Verwalt.) - NPO       120042.00"
      ]
     },
     "execution_count": 7,
     "metadata": {},
     "output_type": "execute_result"
    }
   ],
   "source": [
    "# Frame containing all the useful values\n",
    "\n",
    "fundings = pd.read_excel ('grant.xlsx') [['University', 'Approved Amount']]\n",
    "fundings.head ()"
   ]
  },
  {
   "cell_type": "code",
   "execution_count": 9,
   "metadata": {
    "collapsed": false
   },
   "outputs": [
    {
     "data": {
      "text/html": [
       "<div>\n",
       "<table border=\"1\" class=\"dataframe\">\n",
       "  <thead>\n",
       "    <tr style=\"text-align: right;\">\n",
       "      <th></th>\n",
       "      <th>Canton</th>\n",
       "    </tr>\n",
       "  </thead>\n",
       "  <tbody>\n",
       "    <tr>\n",
       "      <th>0</th>\n",
       "      <td>ZH</td>\n",
       "    </tr>\n",
       "    <tr>\n",
       "      <th>1</th>\n",
       "      <td>BE</td>\n",
       "    </tr>\n",
       "    <tr>\n",
       "      <th>2</th>\n",
       "      <td>LU</td>\n",
       "    </tr>\n",
       "    <tr>\n",
       "      <th>3</th>\n",
       "      <td>UR</td>\n",
       "    </tr>\n",
       "    <tr>\n",
       "      <th>4</th>\n",
       "      <td>SZ</td>\n",
       "    </tr>\n",
       "  </tbody>\n",
       "</table>\n",
       "</div>"
      ],
      "text/plain": [
       "  Canton\n",
       "0     ZH\n",
       "1     BE\n",
       "2     LU\n",
       "3     UR\n",
       "4     SZ"
      ]
     },
     "execution_count": 9,
     "metadata": {},
     "output_type": "execute_result"
    }
   ],
   "source": [
    "# Cantons keys\n",
    "\n",
    "cantons = pd.read_csv ('cantons.csv')\n",
    "cantons.head ()"
   ]
  },
  {
   "cell_type": "code",
   "execution_count": 11,
   "metadata": {
    "collapsed": false
   },
   "outputs": [
    {
     "data": {
      "text/plain": [
       "array(['Nicht zuteilbar - NA', 'Université de Genève - GE',\n",
       "       'NPO (Biblioth., Museen, Verwalt.) - NPO', 'Universität Basel - BS',\n",
       "       'Université de Fribourg - FR', 'Universität Zürich - ZH',\n",
       "       'Université de Lausanne - LA', 'Universität Bern - BE',\n",
       "       'Eidg. Forschungsanstalt für Wald,Schnee,Land - WSL',\n",
       "       'Université de Neuchâtel - NE', 'ETH Zürich - ETHZ',\n",
       "       'Inst. de Hautes Etudes Internat. et du Dév - IHEID',\n",
       "       'Universität St. Gallen - SG', 'Weitere Institute - FINST',\n",
       "       'Firmen/Privatwirtschaft - FP',\n",
       "       'Pädagogische Hochschule Graubünden - PHGR', 'EPF Lausanne - EPFL',\n",
       "       'Pädagogische Hochschule Zürich - PHZFH', 'Universität Luzern - LU',\n",
       "       'Schweiz. Institut für Kunstwissenschaft - SIK-ISEA',\n",
       "       'SUP della Svizzera italiana - SUPSI',\n",
       "       'HES de Suisse occidentale - HES-SO',\n",
       "       'Robert Walser-Stiftung Bern - RWS', 'Paul Scherrer Institut - PSI',\n",
       "       'Pädagogische Hochschule St. Gallen - PHSG',\n",
       "       'Eidg. Anstalt für Wasserversorgung - EAWAG',\n",
       "       'Eidg. Material und Prüfungsanstalt - EMPA',\n",
       "       'Physikal.-Meteorolog. Observatorium Davos - PMOD',\n",
       "       'Berner Fachhochschule - BFH',\n",
       "       'Swiss Center for Electronics and Microtech. - CSEM',\n",
       "       'Weitere Spitäler - ASPIT', 'AO Research Institute - AORI',\n",
       "       'Allergie- und Asthmaforschung - SIAF',\n",
       "       'Forschungsinstitut für biologischen Landbau - FIBL',\n",
       "       'Friedrich Miescher Institute - FMI',\n",
       "       'Kantonsspital St. Gallen - KSPSG',\n",
       "       'Forschungsanstalten Agroscope - AGS',\n",
       "       'Ente Ospedaliero Cantonale - EOC',\n",
       "       'Inst. universit. romand de Santé au Travail - IST',\n",
       "       'Eidg. Hochschulinstitut für Berufsbildung - EHB',\n",
       "       'Zürcher Fachhochschule (ohne PH) - ZFH',\n",
       "       'Università della Svizzera italiana - USI',\n",
       "       'Institut für Kulturforschung Graubünden - IKG',\n",
       "       'Fachhochschule Nordwestschweiz (ohne PH) - FHNW',\n",
       "       'Interkant. Hochschule für Heilpädagogik ZH - HfH', nan,\n",
       "       \"Centre de rech. sur l'environnement alpin - CREALP\",\n",
       "       'Idiap Research Institute - IDIAP',\n",
       "       'Pädagogische Hochschule Bern - PHBern',\n",
       "       'Institut Universitaire Kurt Bösch - IUKB',\n",
       "       'Schweizer Paraplegiker Forschung - SPF',\n",
       "       'Hochschule Luzern - HSLU',\n",
       "       'Forschungsinstitut für Opthalmologie - IRO',\n",
       "       'Haute école pédagogique du canton de Vaud - HEPL',\n",
       "       'Fachhochschule Ostschweiz - FHO',\n",
       "       'Inst. Suisse de Spéléologie et Karstologie - ISSKA',\n",
       "       'Swiss Institute of Bioinformatics - SIB',\n",
       "       'Haute école pédagogique BE, JU, NE - HEPBEJUNE',\n",
       "       'Pädagogische Hochschule Luzern - PHLU',\n",
       "       'Forschungskommission SAGW', 'Istituto Svizzero di Roma - ISR',\n",
       "       'Pädag. Hochschule Tessin (Teilschule SUPSI) - ASP',\n",
       "       'Haute école pédagogique fribourgeoise - HEPFR',\n",
       "       'Pädagogische Hochschule Schwyz - PHSZ',\n",
       "       'Pädagogische Hochschule Thurgau - PHTG',\n",
       "       'Biotechnologie Institut Thurgau - BITG',\n",
       "       'Fachhochschule Kalaidos - FHKD',\n",
       "       'Schweizer Kompetenzzentrum Sozialwissensch. - FORS',\n",
       "       'Pädagogische Hochschule Wallis - PHVS',\n",
       "       'Schweiz. Hochschule für Logopädie Rorschach - SHLR',\n",
       "       'Pädagogische Hochschule Zug - PHZG',\n",
       "       'Instituto Ricerche Solari Locarno - IRSOL',\n",
       "       'Franklin University Switzerland - FUS',\n",
       "       'Pädagogische Hochschule Schaffhausen - PHSH',\n",
       "       'Pädagogische Hochschule Nordwestschweiz - PHFHNW',\n",
       "       'Staatsunabh. Theologische Hochschule Basel - STHB',\n",
       "       'Facoltà di Teologia di Lugano - FTL',\n",
       "       'Fernfachhochschule Schweiz (Mitglied SUPSI) - FFHS'], dtype=object)"
      ]
     },
     "execution_count": 11,
     "metadata": {},
     "output_type": "execute_result"
    }
   ],
   "source": [
    "# List of all the universities\n",
    "\n",
    "fundings ['University'].unique ()"
   ]
  },
  {
   "cell_type": "markdown",
   "metadata": {},
   "source": [
    "# Tasks left for the homework : \n",
    "### - classify each university to its canton, then groupyby canton,\n",
    "### - sum the approved amount into a column named 'Granted Amount'\n",
    "### - call the function 'buildChoroplethMap' from the script 'choropleth' to produce the map. The final dataFrame should have two columns 'Canton' and 'Granted Money'."
   ]
  },
  {
   "cell_type": "markdown",
   "metadata": {},
   "source": [
    "# Example of use for function 'buildChoroplethMap'"
   ]
  },
  {
   "cell_type": "code",
   "execution_count": 13,
   "metadata": {
    "collapsed": false,
    "scrolled": true
   },
   "outputs": [
    {
     "data": {
      "text/html": [
       "<div>\n",
       "<table border=\"1\" class=\"dataframe\">\n",
       "  <thead>\n",
       "    <tr style=\"text-align: right;\">\n",
       "      <th></th>\n",
       "      <th>Canton</th>\n",
       "      <th>Granted Money</th>\n",
       "    </tr>\n",
       "  </thead>\n",
       "  <tbody>\n",
       "    <tr>\n",
       "      <th>0</th>\n",
       "      <td>ZH</td>\n",
       "      <td>22</td>\n",
       "    </tr>\n",
       "    <tr>\n",
       "      <th>1</th>\n",
       "      <td>BE</td>\n",
       "      <td>88</td>\n",
       "    </tr>\n",
       "    <tr>\n",
       "      <th>2</th>\n",
       "      <td>LU</td>\n",
       "      <td>97</td>\n",
       "    </tr>\n",
       "    <tr>\n",
       "      <th>3</th>\n",
       "      <td>UR</td>\n",
       "      <td>52</td>\n",
       "    </tr>\n",
       "    <tr>\n",
       "      <th>4</th>\n",
       "      <td>SZ</td>\n",
       "      <td>53</td>\n",
       "    </tr>\n",
       "  </tbody>\n",
       "</table>\n",
       "</div>"
      ],
      "text/plain": [
       "  Canton  Granted Money\n",
       "0     ZH             22\n",
       "1     BE             88\n",
       "2     LU             97\n",
       "3     UR             52\n",
       "4     SZ             53"
      ]
     },
     "execution_count": 13,
     "metadata": {},
     "output_type": "execute_result"
    }
   ],
   "source": [
    "testFrame = pd.merge (cantons, pd.DataFrame (np.random.randint(0,100,size=(100, 1)), columns = ['Granted Money']), left_index = True, right_index = True)\n",
    "testFrame.head ()"
   ]
  },
  {
   "cell_type": "markdown",
   "metadata": {},
   "source": [
    "## Parameters :\n",
    "\n",
    " - dataFrame : the data frame containing canton values\n",
    " - scale : color scales on the map\n",
    " - outputFileName : the name of the output map file"
   ]
  },
  {
   "cell_type": "code",
   "execution_count": 49,
   "metadata": {
    "collapsed": true
   },
   "outputs": [],
   "source": [
    "def get_canton(university):\n",
    "    from credentials import places_api_key\n",
    "    # Get placeid from university name\n",
    "    url_text_search = 'https://maps.googleapis.com/maps/api/place/textsearch/json?key={key}&query={query}'.format(\n",
    "            key=places_api_key,\n",
    "            query=university\n",
    "    )\n",
    "    r=requests.get(url_text_search)\n",
    "    placeid = r.json()['results'][0]['place_id']\n",
    "    \n",
    "    # Get info on placeid\n",
    "    url_place_search = 'https://maps.googleapis.com/maps/api/place/details/json?key={key}&placeid={placeid}'.format(\n",
    "        key=places_api_key,\n",
    "        placeid=placeid\n",
    "    )\n",
    "    r2=requests.get(url_place_search)\n",
    "    \n",
    "    # Parse json and return canton\n",
    "    for el in r2.json()['result']['address_components']:\n",
    "        if el['types']==['administrative_area_level_1', 'political']:\n",
    "            return el['short_name']"
   ]
  },
  {
   "cell_type": "code",
   "execution_count": 53,
   "metadata": {
    "collapsed": false
   },
   "outputs": [
    {
     "data": {
      "text/plain": [
       "'ZH'"
      ]
     },
     "execution_count": 53,
     "metadata": {},
     "output_type": "execute_result"
    }
   ],
   "source": [
    "get_canton('ETHZ')"
   ]
  }
 ],
 "metadata": {
  "kernelspec": {
   "display_name": "Python 3",
   "language": "python",
   "name": "python3"
  },
  "language_info": {
   "codemirror_mode": {
    "name": "ipython",
    "version": 3
   },
   "file_extension": ".py",
   "mimetype": "text/x-python",
   "name": "python",
   "nbconvert_exporter": "python",
   "pygments_lexer": "ipython3",
   "version": "3.5.2"
  }
 },
 "nbformat": 4,
 "nbformat_minor": 0
}
