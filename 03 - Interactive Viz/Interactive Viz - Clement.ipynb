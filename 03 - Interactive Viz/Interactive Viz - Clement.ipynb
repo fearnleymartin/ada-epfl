{
 "cells": [
  {
   "cell_type": "code",
   "execution_count": 26,
   "metadata": {
    "collapsed": true
   },
   "outputs": [],
   "source": [
    "import pandas as pd\n",
    "import numpy as np\n",
    "import requests"
   ]
  },
  {
   "cell_type": "markdown",
   "metadata": {},
   "source": [
    "# ADA Lab 3 - Interactive Viz"
   ]
  },
  {
   "cell_type": "markdown",
   "metadata": {},
   "source": [
    "## Importing the data"
   ]
  },
  {
   "cell_type": "markdown",
   "metadata": {},
   "source": [
    "We only need two columns of the excel file: University and Approved Amount.\n",
    "\n",
    "As seen in the P3 documentation we can remove all entries that have a missing value for 'University' because these grants are not given in Switzerland.\n",
    "After that we remove the remaining values that don't have a value for 'Approved Amount', we can do this without affecting the result because this is only 0.2 % of the data."
   ]
  },
  {
   "cell_type": "code",
   "execution_count": 27,
   "metadata": {
    "collapsed": false
   },
   "outputs": [],
   "source": [
    "# Frame containing all the useful values\n",
    "fundings = pd.read_excel ('grant.xlsx') [['University', 'Approved Amount']]"
   ]
  },
  {
   "cell_type": "code",
   "execution_count": 28,
   "metadata": {
    "collapsed": false
   },
   "outputs": [
    {
     "name": "stdout",
     "output_type": "stream",
     "text": [
      "(63969, 2)\n",
      "(50988, 2)\n",
      "(50878, 2)\n"
     ]
    }
   ],
   "source": [
    "# Removing entries with missing values\n",
    "print(fundings.shape)\n",
    "\n",
    "fundings_cleaned = fundings.drop(fundings.index[fundings['University'].isnull()])\n",
    "print(fundings_cleaned.shape)\n",
    "\n",
    "fundings_final = fundings_cleaned.drop(fundings_cleaned.index[fundings_cleaned['Approved Amount'] == 'data not included in P3'])\n",
    "print(fundings_final.shape)"
   ]
  },
  {
   "cell_type": "markdown",
   "metadata": {},
   "source": [
    "## Extracting the canton"
   ]
  },
  {
   "cell_type": "markdown",
   "metadata": {},
   "source": [
    "The get_canton function takes a university name as input and returns the canton for that university. It first executes a text search on the Google Places API with the university string as a query. Afterwards it uses the returned place id to get the place details which contain the canton.\n",
    "\n",
    "This function is called for all distinct universities in the dataframe and the University - Canton mapping is saved as .csv.\n",
    "\n",
    "After adding a couple of cantons manually, the .csv file is loaded in a dataframe and joined with the university list so each entry has a value for canton.\n",
    "\n",
    "Then a groupby and sum on canton suffices to get the amount of granted money per canton."
   ]
  },
  {
   "cell_type": "code",
   "execution_count": 4,
   "metadata": {
    "collapsed": false
   },
   "outputs": [],
   "source": [
    "def get_canton(university):\n",
    "    from credentials import places_api_key\n",
    "    # Get placeid from university name\n",
    "    try:\n",
    "        url_text_search = 'https://maps.googleapis.com/maps/api/place/textsearch/json?key={key}&query={query}'.format(\n",
    "                key=places_api_key,\n",
    "                query=university\n",
    "        )\n",
    "        r=requests.get(url_text_search)\n",
    "\n",
    "        if len(r.json()['results']) > 0:\n",
    "            placeid = r.json()['results'][0]['place_id']\n",
    "            # Get info on placeid\n",
    "            url_place_search = 'https://maps.googleapis.com/maps/api/place/details/json?key={key}&placeid={placeid}'.format(\n",
    "                key=places_api_key,\n",
    "                placeid=placeid\n",
    "            )\n",
    "            r2=requests.get(url_place_search)\n",
    "\n",
    "            # Parse json and return canton\n",
    "            for el in r2.json()['result']['address_components']:\n",
    "                if el['types']==['administrative_area_level_1', 'political']:\n",
    "                    return el['short_name']\n",
    "        else:\n",
    "            return None\n",
    "    except Exception as e:\n",
    "        print(e)\n",
    "        return None"
   ]
  },
  {
   "cell_type": "code",
   "execution_count": 5,
   "metadata": {
    "collapsed": false
   },
   "outputs": [],
   "source": [
    "# List of all the universities\n",
    "universities = pd.DataFrame(fundings_final ['University'].unique ())\n",
    "universities.columns = ['University']\n",
    "universities = universities[1:]"
   ]
  },
  {
   "cell_type": "code",
   "execution_count": 6,
   "metadata": {
    "collapsed": false
   },
   "outputs": [
    {
     "data": {
      "text/html": [
       "<div>\n",
       "<table border=\"1\" class=\"dataframe\">\n",
       "  <thead>\n",
       "    <tr style=\"text-align: right;\">\n",
       "      <th></th>\n",
       "      <th>University</th>\n",
       "      <th>Canton</th>\n",
       "    </tr>\n",
       "  </thead>\n",
       "  <tbody>\n",
       "    <tr>\n",
       "      <th>1</th>\n",
       "      <td>Université de Genève - GE</td>\n",
       "      <td>GE</td>\n",
       "    </tr>\n",
       "    <tr>\n",
       "      <th>2</th>\n",
       "      <td>NPO (Biblioth., Museen, Verwalt.) - NPO</td>\n",
       "      <td>None</td>\n",
       "    </tr>\n",
       "    <tr>\n",
       "      <th>3</th>\n",
       "      <td>Universität Basel - BS</td>\n",
       "      <td>BS</td>\n",
       "    </tr>\n",
       "    <tr>\n",
       "      <th>4</th>\n",
       "      <td>Université de Fribourg - FR</td>\n",
       "      <td>FR</td>\n",
       "    </tr>\n",
       "    <tr>\n",
       "      <th>5</th>\n",
       "      <td>Universität Zürich - ZH</td>\n",
       "      <td>ZH</td>\n",
       "    </tr>\n",
       "    <tr>\n",
       "      <th>6</th>\n",
       "      <td>Université de Lausanne - LA</td>\n",
       "      <td>VD</td>\n",
       "    </tr>\n",
       "    <tr>\n",
       "      <th>7</th>\n",
       "      <td>Universität Bern - BE</td>\n",
       "      <td>BE</td>\n",
       "    </tr>\n",
       "    <tr>\n",
       "      <th>8</th>\n",
       "      <td>Eidg. Forschungsanstalt für Wald,Schnee,Land -...</td>\n",
       "      <td>None</td>\n",
       "    </tr>\n",
       "    <tr>\n",
       "      <th>9</th>\n",
       "      <td>Université de Neuchâtel - NE</td>\n",
       "      <td>NE</td>\n",
       "    </tr>\n",
       "    <tr>\n",
       "      <th>10</th>\n",
       "      <td>ETH Zürich - ETHZ</td>\n",
       "      <td>ZH</td>\n",
       "    </tr>\n",
       "    <tr>\n",
       "      <th>11</th>\n",
       "      <td>Inst. de Hautes Etudes Internat. et du Dév - I...</td>\n",
       "      <td>GE</td>\n",
       "    </tr>\n",
       "    <tr>\n",
       "      <th>12</th>\n",
       "      <td>Universität St. Gallen - SG</td>\n",
       "      <td>SG</td>\n",
       "    </tr>\n",
       "    <tr>\n",
       "      <th>13</th>\n",
       "      <td>Weitere Institute - FINST</td>\n",
       "      <td>None</td>\n",
       "    </tr>\n",
       "    <tr>\n",
       "      <th>14</th>\n",
       "      <td>Firmen/Privatwirtschaft - FP</td>\n",
       "      <td>None</td>\n",
       "    </tr>\n",
       "    <tr>\n",
       "      <th>15</th>\n",
       "      <td>Pädagogische Hochschule Graubünden - PHGR</td>\n",
       "      <td>GR</td>\n",
       "    </tr>\n",
       "    <tr>\n",
       "      <th>16</th>\n",
       "      <td>EPF Lausanne - EPFL</td>\n",
       "      <td>VD</td>\n",
       "    </tr>\n",
       "    <tr>\n",
       "      <th>17</th>\n",
       "      <td>Pädagogische Hochschule Zürich - PHZFH</td>\n",
       "      <td>ZH</td>\n",
       "    </tr>\n",
       "    <tr>\n",
       "      <th>18</th>\n",
       "      <td>Universität Luzern - LU</td>\n",
       "      <td>LU</td>\n",
       "    </tr>\n",
       "    <tr>\n",
       "      <th>19</th>\n",
       "      <td>Schweiz. Institut für Kunstwissenschaft - SIK-...</td>\n",
       "      <td>ZH</td>\n",
       "    </tr>\n",
       "    <tr>\n",
       "      <th>20</th>\n",
       "      <td>SUP della Svizzera italiana - SUPSI</td>\n",
       "      <td>TI</td>\n",
       "    </tr>\n",
       "    <tr>\n",
       "      <th>21</th>\n",
       "      <td>HES de Suisse occidentale - HES-SO</td>\n",
       "      <td>JU</td>\n",
       "    </tr>\n",
       "    <tr>\n",
       "      <th>22</th>\n",
       "      <td>Robert Walser-Stiftung Bern - RWS</td>\n",
       "      <td>BE</td>\n",
       "    </tr>\n",
       "    <tr>\n",
       "      <th>23</th>\n",
       "      <td>Paul Scherrer Institut - PSI</td>\n",
       "      <td>AG</td>\n",
       "    </tr>\n",
       "    <tr>\n",
       "      <th>24</th>\n",
       "      <td>Pädagogische Hochschule St. Gallen - PHSG</td>\n",
       "      <td>SG</td>\n",
       "    </tr>\n",
       "    <tr>\n",
       "      <th>25</th>\n",
       "      <td>Eidg. Anstalt für Wasserversorgung - EAWAG</td>\n",
       "      <td>ZH</td>\n",
       "    </tr>\n",
       "    <tr>\n",
       "      <th>26</th>\n",
       "      <td>Eidg. Material und Prüfungsanstalt - EMPA</td>\n",
       "      <td>ZH</td>\n",
       "    </tr>\n",
       "    <tr>\n",
       "      <th>27</th>\n",
       "      <td>Physikal.-Meteorolog. Observatorium Davos - PMOD</td>\n",
       "      <td>None</td>\n",
       "    </tr>\n",
       "    <tr>\n",
       "      <th>28</th>\n",
       "      <td>Berner Fachhochschule - BFH</td>\n",
       "      <td>BE</td>\n",
       "    </tr>\n",
       "    <tr>\n",
       "      <th>29</th>\n",
       "      <td>Swiss Center for Electronics and Microtech. - ...</td>\n",
       "      <td>None</td>\n",
       "    </tr>\n",
       "    <tr>\n",
       "      <th>30</th>\n",
       "      <td>Weitere Spitäler - ASPIT</td>\n",
       "      <td>None</td>\n",
       "    </tr>\n",
       "    <tr>\n",
       "      <th>...</th>\n",
       "      <td>...</td>\n",
       "      <td>...</td>\n",
       "    </tr>\n",
       "    <tr>\n",
       "      <th>47</th>\n",
       "      <td>Pädagogische Hochschule Bern - PHBern</td>\n",
       "      <td>BE</td>\n",
       "    </tr>\n",
       "    <tr>\n",
       "      <th>48</th>\n",
       "      <td>Institut Universitaire Kurt Bösch - IUKB</td>\n",
       "      <td>VS</td>\n",
       "    </tr>\n",
       "    <tr>\n",
       "      <th>49</th>\n",
       "      <td>Schweizer Paraplegiker Forschung - SPF</td>\n",
       "      <td>LU</td>\n",
       "    </tr>\n",
       "    <tr>\n",
       "      <th>50</th>\n",
       "      <td>Hochschule Luzern - HSLU</td>\n",
       "      <td>LU</td>\n",
       "    </tr>\n",
       "    <tr>\n",
       "      <th>51</th>\n",
       "      <td>Forschungsinstitut für Opthalmologie - IRO</td>\n",
       "      <td>None</td>\n",
       "    </tr>\n",
       "    <tr>\n",
       "      <th>52</th>\n",
       "      <td>Haute école pédagogique du canton de Vaud - HEPL</td>\n",
       "      <td>VD</td>\n",
       "    </tr>\n",
       "    <tr>\n",
       "      <th>53</th>\n",
       "      <td>Fachhochschule Ostschweiz - FHO</td>\n",
       "      <td>SG</td>\n",
       "    </tr>\n",
       "    <tr>\n",
       "      <th>54</th>\n",
       "      <td>Inst. Suisse de Spéléologie et Karstologie - I...</td>\n",
       "      <td>NE</td>\n",
       "    </tr>\n",
       "    <tr>\n",
       "      <th>55</th>\n",
       "      <td>Swiss Institute of Bioinformatics - SIB</td>\n",
       "      <td>GE</td>\n",
       "    </tr>\n",
       "    <tr>\n",
       "      <th>56</th>\n",
       "      <td>Haute école pédagogique BE, JU, NE - HEPBEJUNE</td>\n",
       "      <td>JU</td>\n",
       "    </tr>\n",
       "    <tr>\n",
       "      <th>57</th>\n",
       "      <td>Pädagogische Hochschule Luzern - PHLU</td>\n",
       "      <td>LU</td>\n",
       "    </tr>\n",
       "    <tr>\n",
       "      <th>58</th>\n",
       "      <td>Forschungskommission SAGW</td>\n",
       "      <td>None</td>\n",
       "    </tr>\n",
       "    <tr>\n",
       "      <th>59</th>\n",
       "      <td>Istituto Svizzero di Roma - ISR</td>\n",
       "      <td>Lazio</td>\n",
       "    </tr>\n",
       "    <tr>\n",
       "      <th>60</th>\n",
       "      <td>Pädag. Hochschule Tessin (Teilschule SUPSI) - ASP</td>\n",
       "      <td>None</td>\n",
       "    </tr>\n",
       "    <tr>\n",
       "      <th>61</th>\n",
       "      <td>Haute école pédagogique fribourgeoise - HEPFR</td>\n",
       "      <td>FR</td>\n",
       "    </tr>\n",
       "    <tr>\n",
       "      <th>62</th>\n",
       "      <td>Pädagogische Hochschule Schwyz - PHSZ</td>\n",
       "      <td>SZ</td>\n",
       "    </tr>\n",
       "    <tr>\n",
       "      <th>63</th>\n",
       "      <td>Pädagogische Hochschule Thurgau - PHTG</td>\n",
       "      <td>TG</td>\n",
       "    </tr>\n",
       "    <tr>\n",
       "      <th>64</th>\n",
       "      <td>Biotechnologie Institut Thurgau - BITG</td>\n",
       "      <td>TG</td>\n",
       "    </tr>\n",
       "    <tr>\n",
       "      <th>65</th>\n",
       "      <td>Fachhochschule Kalaidos - FHKD</td>\n",
       "      <td>ZH</td>\n",
       "    </tr>\n",
       "    <tr>\n",
       "      <th>66</th>\n",
       "      <td>Schweizer Kompetenzzentrum Sozialwissensch. - ...</td>\n",
       "      <td>None</td>\n",
       "    </tr>\n",
       "    <tr>\n",
       "      <th>67</th>\n",
       "      <td>Pädagogische Hochschule Wallis - PHVS</td>\n",
       "      <td>None</td>\n",
       "    </tr>\n",
       "    <tr>\n",
       "      <th>68</th>\n",
       "      <td>Schweiz. Hochschule für Logopädie Rorschach - ...</td>\n",
       "      <td>SG</td>\n",
       "    </tr>\n",
       "    <tr>\n",
       "      <th>69</th>\n",
       "      <td>Pädagogische Hochschule Zug - PHZG</td>\n",
       "      <td>ZG</td>\n",
       "    </tr>\n",
       "    <tr>\n",
       "      <th>70</th>\n",
       "      <td>Instituto Ricerche Solari Locarno - IRSOL</td>\n",
       "      <td>TI</td>\n",
       "    </tr>\n",
       "    <tr>\n",
       "      <th>71</th>\n",
       "      <td>Franklin University Switzerland - FUS</td>\n",
       "      <td>TI</td>\n",
       "    </tr>\n",
       "    <tr>\n",
       "      <th>72</th>\n",
       "      <td>Pädagogische Hochschule Schaffhausen - PHSH</td>\n",
       "      <td>SH</td>\n",
       "    </tr>\n",
       "    <tr>\n",
       "      <th>73</th>\n",
       "      <td>Pädagogische Hochschule Nordwestschweiz - PHFHNW</td>\n",
       "      <td>BL</td>\n",
       "    </tr>\n",
       "    <tr>\n",
       "      <th>74</th>\n",
       "      <td>Staatsunabh. Theologische Hochschule Basel - STHB</td>\n",
       "      <td>None</td>\n",
       "    </tr>\n",
       "    <tr>\n",
       "      <th>75</th>\n",
       "      <td>Facoltà di Teologia di Lugano - FTL</td>\n",
       "      <td>TI</td>\n",
       "    </tr>\n",
       "    <tr>\n",
       "      <th>76</th>\n",
       "      <td>Fernfachhochschule Schweiz (Mitglied SUPSI) - ...</td>\n",
       "      <td>VS</td>\n",
       "    </tr>\n",
       "  </tbody>\n",
       "</table>\n",
       "<p>76 rows × 2 columns</p>\n",
       "</div>"
      ],
      "text/plain": [
       "                                           University Canton\n",
       "1                           Université de Genève - GE     GE\n",
       "2             NPO (Biblioth., Museen, Verwalt.) - NPO   None\n",
       "3                              Universität Basel - BS     BS\n",
       "4                         Université de Fribourg - FR     FR\n",
       "5                             Universität Zürich - ZH     ZH\n",
       "6                         Université de Lausanne - LA     VD\n",
       "7                               Universität Bern - BE     BE\n",
       "8   Eidg. Forschungsanstalt für Wald,Schnee,Land -...   None\n",
       "9                        Université de Neuchâtel - NE     NE\n",
       "10                                  ETH Zürich - ETHZ     ZH\n",
       "11  Inst. de Hautes Etudes Internat. et du Dév - I...     GE\n",
       "12                        Universität St. Gallen - SG     SG\n",
       "13                          Weitere Institute - FINST   None\n",
       "14                       Firmen/Privatwirtschaft - FP   None\n",
       "15          Pädagogische Hochschule Graubünden - PHGR     GR\n",
       "16                                EPF Lausanne - EPFL     VD\n",
       "17             Pädagogische Hochschule Zürich - PHZFH     ZH\n",
       "18                            Universität Luzern - LU     LU\n",
       "19  Schweiz. Institut für Kunstwissenschaft - SIK-...     ZH\n",
       "20                SUP della Svizzera italiana - SUPSI     TI\n",
       "21                 HES de Suisse occidentale - HES-SO     JU\n",
       "22                  Robert Walser-Stiftung Bern - RWS     BE\n",
       "23                       Paul Scherrer Institut - PSI     AG\n",
       "24          Pädagogische Hochschule St. Gallen - PHSG     SG\n",
       "25         Eidg. Anstalt für Wasserversorgung - EAWAG     ZH\n",
       "26          Eidg. Material und Prüfungsanstalt - EMPA     ZH\n",
       "27   Physikal.-Meteorolog. Observatorium Davos - PMOD   None\n",
       "28                        Berner Fachhochschule - BFH     BE\n",
       "29  Swiss Center for Electronics and Microtech. - ...   None\n",
       "30                           Weitere Spitäler - ASPIT   None\n",
       "..                                                ...    ...\n",
       "47              Pädagogische Hochschule Bern - PHBern     BE\n",
       "48           Institut Universitaire Kurt Bösch - IUKB     VS\n",
       "49             Schweizer Paraplegiker Forschung - SPF     LU\n",
       "50                           Hochschule Luzern - HSLU     LU\n",
       "51         Forschungsinstitut für Opthalmologie - IRO   None\n",
       "52   Haute école pédagogique du canton de Vaud - HEPL     VD\n",
       "53                    Fachhochschule Ostschweiz - FHO     SG\n",
       "54  Inst. Suisse de Spéléologie et Karstologie - I...     NE\n",
       "55            Swiss Institute of Bioinformatics - SIB     GE\n",
       "56     Haute école pédagogique BE, JU, NE - HEPBEJUNE     JU\n",
       "57              Pädagogische Hochschule Luzern - PHLU     LU\n",
       "58                          Forschungskommission SAGW   None\n",
       "59                    Istituto Svizzero di Roma - ISR  Lazio\n",
       "60  Pädag. Hochschule Tessin (Teilschule SUPSI) - ASP   None\n",
       "61      Haute école pédagogique fribourgeoise - HEPFR     FR\n",
       "62              Pädagogische Hochschule Schwyz - PHSZ     SZ\n",
       "63             Pädagogische Hochschule Thurgau - PHTG     TG\n",
       "64             Biotechnologie Institut Thurgau - BITG     TG\n",
       "65                     Fachhochschule Kalaidos - FHKD     ZH\n",
       "66  Schweizer Kompetenzzentrum Sozialwissensch. - ...   None\n",
       "67              Pädagogische Hochschule Wallis - PHVS   None\n",
       "68  Schweiz. Hochschule für Logopädie Rorschach - ...     SG\n",
       "69                 Pädagogische Hochschule Zug - PHZG     ZG\n",
       "70          Instituto Ricerche Solari Locarno - IRSOL     TI\n",
       "71              Franklin University Switzerland - FUS     TI\n",
       "72        Pädagogische Hochschule Schaffhausen - PHSH     SH\n",
       "73   Pädagogische Hochschule Nordwestschweiz - PHFHNW     BL\n",
       "74  Staatsunabh. Theologische Hochschule Basel - STHB   None\n",
       "75                Facoltà di Teologia di Lugano - FTL     TI\n",
       "76  Fernfachhochschule Schweiz (Mitglied SUPSI) - ...     VS\n",
       "\n",
       "[76 rows x 2 columns]"
      ]
     },
     "execution_count": 6,
     "metadata": {},
     "output_type": "execute_result"
    }
   ],
   "source": [
    "## ONLY execute if you want to redo the canton extraction\n",
    "\n",
    "# Get their cantons\n",
    "#universities['Canton'] = universities['University'].apply(get_canton)\n",
    "#universities"
   ]
  },
  {
   "cell_type": "code",
   "execution_count": 7,
   "metadata": {
    "collapsed": false
   },
   "outputs": [],
   "source": [
    "universities.to_csv('uni_canton_mapping.csv')"
   ]
  },
  {
   "cell_type": "code",
   "execution_count": 29,
   "metadata": {
    "collapsed": false
   },
   "outputs": [],
   "source": [
    "cantons = pd.read_csv('uni_canton_mapping.csv')"
   ]
  },
  {
   "cell_type": "code",
   "execution_count": 48,
   "metadata": {
    "collapsed": true
   },
   "outputs": [],
   "source": [
    "canton_uni = pd.merge(cantons, fundings_final, left_on='University', right_on='University', how='inner', sort=False)"
   ]
  },
  {
   "cell_type": "code",
   "execution_count": 57,
   "metadata": {
    "collapsed": false
   },
   "outputs": [],
   "source": [
    "canton_uni_copy = canton_uni.copy()\n",
    "canton_uni_copy['Approved Amount'] = canton_uni_copy['Approved Amount'].apply(pd.to_numeric)\n",
    "canton_uni_copy = canton_uni_copy[['Canton', 'Approved Amount']].groupby('Canton').sum().reset_index()\n",
    "canton_uni_copy.columns = ['Canton', 'Granted Money']"
   ]
  },
  {
   "cell_type": "code",
   "execution_count": 102,
   "metadata": {
    "collapsed": false
   },
   "outputs": [
    {
     "name": "stdout",
     "output_type": "stream",
     "text": [
      "Canton                    ZH\n",
      "Granted Money    3.60751e+09\n",
      "dtype: object\n",
      "Canton               AG\n",
      "Granted Money    141000\n",
      "dtype: object\n"
     ]
    }
   ],
   "source": [
    "print(canton_uni_copy.max())\n",
    "print(canton_uni_copy.min())"
   ]
  },
  {
   "cell_type": "raw",
   "metadata": {},
   "source": [
    "## Building the map"
   ]
  },
  {
   "cell_type": "code",
   "execution_count": 58,
   "metadata": {
    "collapsed": true
   },
   "outputs": [],
   "source": [
    "from choropleth import buildChoroplethMap"
   ]
  },
  {
   "cell_type": "code",
   "execution_count": 113,
   "metadata": {
    "collapsed": true
   },
   "outputs": [],
   "source": [
    "import folium\n",
    "\n",
    "def buildChoroplethMap (dataFrame, scale = [140000, 900000000, 1800000000, 2700000000, 3600000000], outputFileName = 'switzerland_map'):\n",
    "    \n",
    "    if 'Granted Money' not in dataFrame.columns:\n",
    "        raise ValueError ('The supplied data frame must contain a column named \\\"Granted Money\\\".')\n",
    "    cantonsFrame = pd.read_csv ('cantons.csv')\n",
    "    mapFrame = pd.merge (cantonsFrame, dataFrame, left_on = 'Canton', right_on = 'Canton', how ='left')[['Canton', 'Granted Money']]\n",
    "\n",
    "    cantons_data_path = 'ch-cantons.topojson.json'\n",
    "\n",
    "    map_cantons = folium.Map (location = [46.8, 8.28], zoom_start = 8)\n",
    "    map_cantons.choropleth (geo_path = cantons_data_path, data = mapFrame,\n",
    "                             columns = ['Canton', 'Granted Money'],\n",
    "                             threshold_scale = scale,\n",
    "                             key_on = 'feature.id',\n",
    "                             topojson = 'objects.cantons',\n",
    "                             fill_color = 'YlOrBr', fill_opacity = 0.7, line_opacity = 0.2,\n",
    "                             legend_name = 'Granted Money (Mio CHF)')\n",
    "    \n",
    "    map_cantons.save (outputFileName + '.html')"
   ]
  },
  {
   "cell_type": "code",
   "execution_count": 114,
   "metadata": {
    "collapsed": false,
    "scrolled": true
   },
   "outputs": [
    {
     "name": "stdout",
     "output_type": "stream",
     "text": [
      "[  1.40000000e+05   9.00105000e+08   1.80007000e+09   2.70003500e+09\n",
      "   3.60000000e+09]\n"
     ]
    }
   ],
   "source": [
    "grant_scale = np.linspace(140000, 3600000000, 5)\n",
    "print(grant_scale)\n",
    "buildChoroplethMap(canton_uni_copy)"
   ]
  },
  {
   "cell_type": "markdown",
   "metadata": {},
   "source": [
    "## Parameters :\n",
    "\n",
    " - dataFrame : the data frame containing canton values\n",
    " - scale : color scales on the map\n",
    " - outputFileName : the name of the output map file"
   ]
  }
 ],
 "metadata": {
  "anaconda-cloud": {},
  "kernelspec": {
   "display_name": "Python [Root]",
   "language": "python",
   "name": "Python [Root]"
  },
  "language_info": {
   "codemirror_mode": {
    "name": "ipython",
    "version": 3
   },
   "file_extension": ".py",
   "mimetype": "text/x-python",
   "name": "python",
   "nbconvert_exporter": "python",
   "pygments_lexer": "ipython3",
   "version": "3.5.2"
  }
 },
 "nbformat": 4,
 "nbformat_minor": 0
}
