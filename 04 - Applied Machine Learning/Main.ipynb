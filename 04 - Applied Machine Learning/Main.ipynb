{
 "cells": [
  {
   "cell_type": "code",
   "execution_count": 1,
   "metadata": {
    "collapsed": false
   },
   "outputs": [],
   "source": [
    "%matplotlib inline\n",
    "import pandas as pd\n",
    "import numpy as np\n",
    "import matplotlib.pyplot as plt\n",
    "\n",
    "from sklearn.ensemble import RandomForestClassifier\n",
    "from sklearn.cross_validation import cross_val_score\n",
    "from sklearn.learning_curve import learning_curve\n",
    "from sklearn.cluster import KMeans\n",
    "from sklearn.metrics import silhouette_score\n",
    "from sklearn.metrics import confusion_matrix"
   ]
  },
  {
   "cell_type": "markdown",
   "metadata": {},
   "source": [
    "# Exercise 1"
   ]
  },
  {
   "cell_type": "markdown",
   "metadata": {},
   "source": [
    "## Importing and simple cleaning of data"
   ]
  },
  {
   "cell_type": "markdown",
   "metadata": {},
   "source": [
    "First of all, some simple cleaning. We remove features that have nothing to do with the skin color. We remove player (we will use 'playerShort' later for aggregating), birthday, Alpha_3 (since it is the same as refCountry) and photoID.\n",
    "\n",
    "There are missing values for height, weight and position. And also 163 dyads miss the information for the implicit association test and the explicit bias scores.\n",
    "\n",
    "First we will remove the referees that got in the data by mistake (as mentioned in the preprocessing article) and see if the problem is solved then. After removing these referees, there were still 110 samples with missing data which we just removed.\n",
    "\n",
    "The missing values of height and weight are replaced by the respective means and the missing values in position are replaced by the most frequently occuring position."
   ]
  },
  {
   "cell_type": "code",
   "execution_count": 2,
   "metadata": {
    "collapsed": false,
    "scrolled": false
   },
   "outputs": [
    {
     "data": {
      "text/html": [
       "<div>\n",
       "<table border=\"1\" class=\"dataframe\">\n",
       "  <thead>\n",
       "    <tr style=\"text-align: right;\">\n",
       "      <th></th>\n",
       "      <th>playerShort</th>\n",
       "      <th>player</th>\n",
       "      <th>club</th>\n",
       "      <th>leagueCountry</th>\n",
       "      <th>birthday</th>\n",
       "      <th>height</th>\n",
       "      <th>weight</th>\n",
       "      <th>position</th>\n",
       "      <th>games</th>\n",
       "      <th>victories</th>\n",
       "      <th>...</th>\n",
       "      <th>rater2</th>\n",
       "      <th>refNum</th>\n",
       "      <th>refCountry</th>\n",
       "      <th>Alpha_3</th>\n",
       "      <th>meanIAT</th>\n",
       "      <th>nIAT</th>\n",
       "      <th>seIAT</th>\n",
       "      <th>meanExp</th>\n",
       "      <th>nExp</th>\n",
       "      <th>seExp</th>\n",
       "    </tr>\n",
       "  </thead>\n",
       "  <tbody>\n",
       "    <tr>\n",
       "      <th>0</th>\n",
       "      <td>lucas-wilchez</td>\n",
       "      <td>Lucas Wilchez</td>\n",
       "      <td>Real Zaragoza</td>\n",
       "      <td>Spain</td>\n",
       "      <td>31.08.1983</td>\n",
       "      <td>177.0</td>\n",
       "      <td>72.0</td>\n",
       "      <td>Attacking Midfielder</td>\n",
       "      <td>1</td>\n",
       "      <td>0</td>\n",
       "      <td>...</td>\n",
       "      <td>0.50</td>\n",
       "      <td>1</td>\n",
       "      <td>1</td>\n",
       "      <td>GRC</td>\n",
       "      <td>0.326391</td>\n",
       "      <td>712.0</td>\n",
       "      <td>0.000564</td>\n",
       "      <td>0.396000</td>\n",
       "      <td>750.0</td>\n",
       "      <td>0.002696</td>\n",
       "    </tr>\n",
       "    <tr>\n",
       "      <th>1</th>\n",
       "      <td>john-utaka</td>\n",
       "      <td>John Utaka</td>\n",
       "      <td>Montpellier HSC</td>\n",
       "      <td>France</td>\n",
       "      <td>08.01.1982</td>\n",
       "      <td>179.0</td>\n",
       "      <td>82.0</td>\n",
       "      <td>Right Winger</td>\n",
       "      <td>1</td>\n",
       "      <td>0</td>\n",
       "      <td>...</td>\n",
       "      <td>0.75</td>\n",
       "      <td>2</td>\n",
       "      <td>2</td>\n",
       "      <td>ZMB</td>\n",
       "      <td>0.203375</td>\n",
       "      <td>40.0</td>\n",
       "      <td>0.010875</td>\n",
       "      <td>-0.204082</td>\n",
       "      <td>49.0</td>\n",
       "      <td>0.061504</td>\n",
       "    </tr>\n",
       "    <tr>\n",
       "      <th>2</th>\n",
       "      <td>abdon-prats</td>\n",
       "      <td>Abdón Prats</td>\n",
       "      <td>RCD Mallorca</td>\n",
       "      <td>Spain</td>\n",
       "      <td>17.12.1992</td>\n",
       "      <td>181.0</td>\n",
       "      <td>79.0</td>\n",
       "      <td>NaN</td>\n",
       "      <td>1</td>\n",
       "      <td>0</td>\n",
       "      <td>...</td>\n",
       "      <td>NaN</td>\n",
       "      <td>3</td>\n",
       "      <td>3</td>\n",
       "      <td>ESP</td>\n",
       "      <td>0.369894</td>\n",
       "      <td>1785.0</td>\n",
       "      <td>0.000229</td>\n",
       "      <td>0.588297</td>\n",
       "      <td>1897.0</td>\n",
       "      <td>0.001002</td>\n",
       "    </tr>\n",
       "    <tr>\n",
       "      <th>3</th>\n",
       "      <td>pablo-mari</td>\n",
       "      <td>Pablo Marí</td>\n",
       "      <td>RCD Mallorca</td>\n",
       "      <td>Spain</td>\n",
       "      <td>31.08.1993</td>\n",
       "      <td>191.0</td>\n",
       "      <td>87.0</td>\n",
       "      <td>Center Back</td>\n",
       "      <td>1</td>\n",
       "      <td>1</td>\n",
       "      <td>...</td>\n",
       "      <td>NaN</td>\n",
       "      <td>3</td>\n",
       "      <td>3</td>\n",
       "      <td>ESP</td>\n",
       "      <td>0.369894</td>\n",
       "      <td>1785.0</td>\n",
       "      <td>0.000229</td>\n",
       "      <td>0.588297</td>\n",
       "      <td>1897.0</td>\n",
       "      <td>0.001002</td>\n",
       "    </tr>\n",
       "    <tr>\n",
       "      <th>4</th>\n",
       "      <td>ruben-pena</td>\n",
       "      <td>Rubén Peña</td>\n",
       "      <td>Real Valladolid</td>\n",
       "      <td>Spain</td>\n",
       "      <td>18.07.1991</td>\n",
       "      <td>172.0</td>\n",
       "      <td>70.0</td>\n",
       "      <td>Right Midfielder</td>\n",
       "      <td>1</td>\n",
       "      <td>1</td>\n",
       "      <td>...</td>\n",
       "      <td>NaN</td>\n",
       "      <td>3</td>\n",
       "      <td>3</td>\n",
       "      <td>ESP</td>\n",
       "      <td>0.369894</td>\n",
       "      <td>1785.0</td>\n",
       "      <td>0.000229</td>\n",
       "      <td>0.588297</td>\n",
       "      <td>1897.0</td>\n",
       "      <td>0.001002</td>\n",
       "    </tr>\n",
       "  </tbody>\n",
       "</table>\n",
       "<p>5 rows × 28 columns</p>\n",
       "</div>"
      ],
      "text/plain": [
       "     playerShort         player             club leagueCountry    birthday  \\\n",
       "0  lucas-wilchez  Lucas Wilchez    Real Zaragoza         Spain  31.08.1983   \n",
       "1     john-utaka     John Utaka  Montpellier HSC        France  08.01.1982   \n",
       "2    abdon-prats    Abdón Prats     RCD Mallorca         Spain  17.12.1992   \n",
       "3     pablo-mari     Pablo Marí     RCD Mallorca         Spain  31.08.1993   \n",
       "4     ruben-pena     Rubén Peña  Real Valladolid         Spain  18.07.1991   \n",
       "\n",
       "   height  weight              position  games  victories    ...     rater2  \\\n",
       "0   177.0    72.0  Attacking Midfielder      1          0    ...       0.50   \n",
       "1   179.0    82.0          Right Winger      1          0    ...       0.75   \n",
       "2   181.0    79.0                   NaN      1          0    ...        NaN   \n",
       "3   191.0    87.0           Center Back      1          1    ...        NaN   \n",
       "4   172.0    70.0      Right Midfielder      1          1    ...        NaN   \n",
       "\n",
       "   refNum  refCountry  Alpha_3   meanIAT    nIAT     seIAT   meanExp    nExp  \\\n",
       "0       1           1      GRC  0.326391   712.0  0.000564  0.396000   750.0   \n",
       "1       2           2      ZMB  0.203375    40.0  0.010875 -0.204082    49.0   \n",
       "2       3           3      ESP  0.369894  1785.0  0.000229  0.588297  1897.0   \n",
       "3       3           3      ESP  0.369894  1785.0  0.000229  0.588297  1897.0   \n",
       "4       3           3      ESP  0.369894  1785.0  0.000229  0.588297  1897.0   \n",
       "\n",
       "      seExp  \n",
       "0  0.002696  \n",
       "1  0.061504  \n",
       "2  0.001002  \n",
       "3  0.001002  \n",
       "4  0.001002  \n",
       "\n",
       "[5 rows x 28 columns]"
      ]
     },
     "execution_count": 2,
     "metadata": {},
     "output_type": "execute_result"
    }
   ],
   "source": [
    "df = pd.read_csv ('CrowdstormingDataJuly1st.csv')\n",
    "df.head ()"
   ]
  },
  {
   "cell_type": "code",
   "execution_count": 3,
   "metadata": {
    "collapsed": false
   },
   "outputs": [],
   "source": [
    "# remove values without skin color rating (we know all samples have either two raters or none)\n",
    "df_train_raw = df [pd.notnull (df ['rater1'])]"
   ]
  },
  {
   "cell_type": "code",
   "execution_count": 4,
   "metadata": {
    "collapsed": false
   },
   "outputs": [],
   "source": [
    "# drop unimportant features\n",
    "df_train_raw = df_train_raw.drop(['birthday', 'player', 'Alpha_3', 'photoID'], axis=1)"
   ]
  },
  {
   "cell_type": "code",
   "execution_count": 5,
   "metadata": {
    "collapsed": false
   },
   "outputs": [],
   "source": [
    "# remove referees that are not supposed to be in here\n",
    "referees_to_remove = df_train_raw.groupby('refNum').sum()[df_train_raw.groupby('refNum').sum()['games'] < 22].index.tolist()\n",
    "df_train_raw = df_train_raw[~df_train_raw.refNum.isin(referees_to_remove)]"
   ]
  },
  {
   "cell_type": "code",
   "execution_count": 6,
   "metadata": {
    "collapsed": false
   },
   "outputs": [],
   "source": [
    "# remove samples that don't have IAT or Exp score information\n",
    "df_train_raw = df_train_raw[df_train_raw.meanIAT.notnull()]"
   ]
  },
  {
   "cell_type": "code",
   "execution_count": 7,
   "metadata": {
    "collapsed": false
   },
   "outputs": [],
   "source": [
    "# set missing height, weight and position values to mean\n",
    "mean_height = df_train_raw.height.mean()\n",
    "mean_weight = df_train_raw.weight.mean()\n",
    "most_frequent_position = df_train_raw['position'].value_counts().index[0]\n",
    "\n",
    "df_train_raw.loc[df_train_raw.height.isnull(),'height'] = mean_height\n",
    "df_train_raw.loc[df_train_raw.weight.isnull(),'weight'] = mean_weight\n",
    "df_train_raw['position'] = df_train_raw['position'].fillna(most_frequent_position)"
   ]
  },
  {
   "cell_type": "markdown",
   "metadata": {},
   "source": [
    "## Advanced pre-processing"
   ]
  },
  {
   "cell_type": "markdown",
   "metadata": {},
   "source": [
    "We create a new feature called \"skinColor\" which is the average of both ratings, then mapped to either \"white\" or \"black\" to simplify our classification.\n",
    "\n",
    "Position, club and leagueCountry are not numerical, we use dummy variables to make them numerical. For now we left out the club feature because it would cause a lot of dummy variables and we assume it is not a significant feature."
   ]
  },
  {
   "cell_type": "code",
   "execution_count": 8,
   "metadata": {
    "collapsed": false
   },
   "outputs": [],
   "source": [
    "df_train = df_train_raw\n",
    "\n",
    "# create feature \"skinColor\"\n",
    "def attribute_skin_label(val):\n",
    "    if val > 0.5:\n",
    "        return 1 #  \"black\"\n",
    "    else:\n",
    "        return 0  # \"white\"\n",
    "    \n",
    "#Replace rating with either white or black\n",
    "df_train['skinColor'] = df_train[['rater1','rater2']].mean(axis=1).apply(attribute_skin_label)\n",
    "df_train = df_train.drop(['rater1', 'rater2'], 1)\n",
    "\n",
    "# add dummy variables for position and leagueCountry\n",
    "n_positions = len(df_train.position.unique())\n",
    "n_leagueCountry = len(df_train.leagueCountry.unique())\n",
    "\n",
    "d_positions = pd.get_dummies(df_train['position'])\n",
    "d_leagueCountry = pd.get_dummies(df_train['leagueCountry'])\n",
    "\n",
    "df_train = pd.concat([df_train, d_positions, d_leagueCountry], axis=1)\n",
    "df_train = df_train.drop(['position', 'club', 'leagueCountry'], 1)"
   ]
  },
  {
   "cell_type": "code",
   "execution_count": 9,
   "metadata": {
    "collapsed": false
   },
   "outputs": [
    {
     "data": {
      "text/plain": [
       "0    98033\n",
       "1    18489\n",
       "Name: skinColor, dtype: int64"
      ]
     },
     "execution_count": 9,
     "metadata": {},
     "output_type": "execute_result"
    }
   ],
   "source": [
    "# Checking how many \"white\" and \"black\" players we have\n",
    "df_train['skinColor'].value_counts()"
   ]
  },
  {
   "cell_type": "markdown",
   "metadata": {},
   "source": [
    "## Player aggregation and feature engineering\n",
    "We added 6 new features: the meanIAT and the meanExp per dyad are multiplied with each of the values 'redCards', 'YellowCards', and 'YellowRedCards'. We do this because we assume that in a specific encounter between a referee and a player, the combination of a given card and the bias score of the referee's country, is a large indicator for darker skin color.\n",
    "\n",
    "We aggregate per player because we want to predict the skin color of a given player, not of a given dyad. To obtain an intuitive result, we choose to sum over values such as games, games outcomes and cards and mean over the dummy variables and bias scores."
   ]
  },
  {
   "cell_type": "code",
   "execution_count": 10,
   "metadata": {
    "collapsed": false
   },
   "outputs": [],
   "source": [
    "df_train['IATRedCards'] = df_train['redCards']*df_train['meanIAT']\n",
    "df_train['ExpRedCards'] = df_train['redCards']*df_train['meanExp']\n",
    "df_train['IATYellowRedCards'] = df_train['yellowReds']*df_train['meanIAT']\n",
    "df_train['ExpYellowRedCards'] = df_train['yellowReds']*df_train['meanExp']\n",
    "df_train['IATYellowCards'] = df_train['yellowCards']*df_train['meanIAT']\n",
    "df_train['ExpYellowCards'] = df_train['yellowCards']*df_train['meanExp']"
   ]
  },
  {
   "cell_type": "code",
   "execution_count": 11,
   "metadata": {
    "collapsed": false
   },
   "outputs": [],
   "source": [
    "# aggregation per player using 'playerShort'\n",
    "summed = df_train[['playerShort','games', 'victories', 'ties', 'defeats', 'goals', 'yellowCards', 'yellowReds', 'redCards']].groupby('playerShort').sum()\n",
    "meaned = df_train[['playerShort', 'skinColor','Attacking Midfielder', 'Center Back', 'Center Forward',\n",
    "       'Center Midfielder', 'Defensive Midfielder', 'Goalkeeper',\n",
    "       'Left Fullback', 'Left Midfielder', 'Left Winger', 'Right Fullback',\n",
    "       'Right Midfielder', 'Right Winger', 'England', 'France', 'Germany',\n",
    "       'Spain', 'meanIAT', 'meanExp', 'IATRedCards', 'ExpRedCards', 'IATYellowRedCards', 'ExpYellowRedCards', 'IATYellowCards', 'ExpYellowCards', 'weight', 'height' ]].groupby('playerShort').mean()"
   ]
  },
  {
   "cell_type": "code",
   "execution_count": 12,
   "metadata": {
    "collapsed": false
   },
   "outputs": [],
   "source": [
    "df_agg = pd.concat([summed, meaned], axis=1)"
   ]
  },
  {
   "cell_type": "code",
   "execution_count": 13,
   "metadata": {
    "collapsed": false
   },
   "outputs": [
    {
     "data": {
      "text/html": [
       "<div>\n",
       "<table border=\"1\" class=\"dataframe\">\n",
       "  <thead>\n",
       "    <tr style=\"text-align: right;\">\n",
       "      <th></th>\n",
       "      <th>games</th>\n",
       "      <th>victories</th>\n",
       "      <th>ties</th>\n",
       "      <th>defeats</th>\n",
       "      <th>goals</th>\n",
       "      <th>yellowCards</th>\n",
       "      <th>yellowReds</th>\n",
       "      <th>redCards</th>\n",
       "      <th>skinColor</th>\n",
       "      <th>Attacking Midfielder</th>\n",
       "      <th>...</th>\n",
       "      <th>meanIAT</th>\n",
       "      <th>meanExp</th>\n",
       "      <th>IATRedCards</th>\n",
       "      <th>ExpRedCards</th>\n",
       "      <th>IATYellowRedCards</th>\n",
       "      <th>ExpYellowRedCards</th>\n",
       "      <th>IATYellowCards</th>\n",
       "      <th>ExpYellowCards</th>\n",
       "      <th>weight</th>\n",
       "      <th>height</th>\n",
       "    </tr>\n",
       "    <tr>\n",
       "      <th>playerShort</th>\n",
       "      <th></th>\n",
       "      <th></th>\n",
       "      <th></th>\n",
       "      <th></th>\n",
       "      <th></th>\n",
       "      <th></th>\n",
       "      <th></th>\n",
       "      <th></th>\n",
       "      <th></th>\n",
       "      <th></th>\n",
       "      <th></th>\n",
       "      <th></th>\n",
       "      <th></th>\n",
       "      <th></th>\n",
       "      <th></th>\n",
       "      <th></th>\n",
       "      <th></th>\n",
       "      <th></th>\n",
       "      <th></th>\n",
       "      <th></th>\n",
       "      <th></th>\n",
       "    </tr>\n",
       "  </thead>\n",
       "  <tbody>\n",
       "    <tr>\n",
       "      <th>aaron-hughes</th>\n",
       "      <td>646</td>\n",
       "      <td>243</td>\n",
       "      <td>179</td>\n",
       "      <td>224</td>\n",
       "      <td>8</td>\n",
       "      <td>19</td>\n",
       "      <td>0</td>\n",
       "      <td>0</td>\n",
       "      <td>0</td>\n",
       "      <td>0.0</td>\n",
       "      <td>...</td>\n",
       "      <td>0.345236</td>\n",
       "      <td>0.489953</td>\n",
       "      <td>0.000000</td>\n",
       "      <td>0.000000</td>\n",
       "      <td>0.000000</td>\n",
       "      <td>0.000000</td>\n",
       "      <td>0.040634</td>\n",
       "      <td>0.052094</td>\n",
       "      <td>71.0</td>\n",
       "      <td>182.0</td>\n",
       "    </tr>\n",
       "    <tr>\n",
       "      <th>aaron-hunt</th>\n",
       "      <td>335</td>\n",
       "      <td>141</td>\n",
       "      <td>72</td>\n",
       "      <td>122</td>\n",
       "      <td>62</td>\n",
       "      <td>42</td>\n",
       "      <td>0</td>\n",
       "      <td>1</td>\n",
       "      <td>0</td>\n",
       "      <td>1.0</td>\n",
       "      <td>...</td>\n",
       "      <td>0.348943</td>\n",
       "      <td>0.450376</td>\n",
       "      <td>0.003435</td>\n",
       "      <td>0.003428</td>\n",
       "      <td>0.000000</td>\n",
       "      <td>0.000000</td>\n",
       "      <td>0.146678</td>\n",
       "      <td>0.166008</td>\n",
       "      <td>73.0</td>\n",
       "      <td>183.0</td>\n",
       "    </tr>\n",
       "    <tr>\n",
       "      <th>aaron-lennon</th>\n",
       "      <td>412</td>\n",
       "      <td>200</td>\n",
       "      <td>97</td>\n",
       "      <td>115</td>\n",
       "      <td>31</td>\n",
       "      <td>11</td>\n",
       "      <td>0</td>\n",
       "      <td>0</td>\n",
       "      <td>0</td>\n",
       "      <td>0.0</td>\n",
       "      <td>...</td>\n",
       "      <td>0.345893</td>\n",
       "      <td>0.491482</td>\n",
       "      <td>0.000000</td>\n",
       "      <td>0.000000</td>\n",
       "      <td>0.000000</td>\n",
       "      <td>0.000000</td>\n",
       "      <td>0.036158</td>\n",
       "      <td>0.043801</td>\n",
       "      <td>63.0</td>\n",
       "      <td>165.0</td>\n",
       "    </tr>\n",
       "    <tr>\n",
       "      <th>aaron-ramsey</th>\n",
       "      <td>253</td>\n",
       "      <td>144</td>\n",
       "      <td>42</td>\n",
       "      <td>67</td>\n",
       "      <td>39</td>\n",
       "      <td>31</td>\n",
       "      <td>0</td>\n",
       "      <td>1</td>\n",
       "      <td>0</td>\n",
       "      <td>0.0</td>\n",
       "      <td>...</td>\n",
       "      <td>0.347013</td>\n",
       "      <td>0.511374</td>\n",
       "      <td>0.003450</td>\n",
       "      <td>0.003465</td>\n",
       "      <td>0.000000</td>\n",
       "      <td>0.000000</td>\n",
       "      <td>0.107859</td>\n",
       "      <td>0.137232</td>\n",
       "      <td>76.0</td>\n",
       "      <td>178.0</td>\n",
       "    </tr>\n",
       "    <tr>\n",
       "      <th>abdelhamid-el-kaoutari</th>\n",
       "      <td>124</td>\n",
       "      <td>41</td>\n",
       "      <td>40</td>\n",
       "      <td>43</td>\n",
       "      <td>1</td>\n",
       "      <td>8</td>\n",
       "      <td>4</td>\n",
       "      <td>2</td>\n",
       "      <td>0</td>\n",
       "      <td>0.0</td>\n",
       "      <td>...</td>\n",
       "      <td>0.331600</td>\n",
       "      <td>0.335587</td>\n",
       "      <td>0.018091</td>\n",
       "      <td>0.018168</td>\n",
       "      <td>0.036675</td>\n",
       "      <td>0.039297</td>\n",
       "      <td>0.072364</td>\n",
       "      <td>0.072670</td>\n",
       "      <td>73.0</td>\n",
       "      <td>180.0</td>\n",
       "    </tr>\n",
       "  </tbody>\n",
       "</table>\n",
       "<p>5 rows × 35 columns</p>\n",
       "</div>"
      ],
      "text/plain": [
       "                        games  victories  ties  defeats  goals  yellowCards  \\\n",
       "playerShort                                                                   \n",
       "aaron-hughes              646        243   179      224      8           19   \n",
       "aaron-hunt                335        141    72      122     62           42   \n",
       "aaron-lennon              412        200    97      115     31           11   \n",
       "aaron-ramsey              253        144    42       67     39           31   \n",
       "abdelhamid-el-kaoutari    124         41    40       43      1            8   \n",
       "\n",
       "                        yellowReds  redCards  skinColor  Attacking Midfielder  \\\n",
       "playerShort                                                                     \n",
       "aaron-hughes                     0         0          0                   0.0   \n",
       "aaron-hunt                       0         1          0                   1.0   \n",
       "aaron-lennon                     0         0          0                   0.0   \n",
       "aaron-ramsey                     0         1          0                   0.0   \n",
       "abdelhamid-el-kaoutari           4         2          0                   0.0   \n",
       "\n",
       "                         ...     meanIAT   meanExp  IATRedCards  ExpRedCards  \\\n",
       "playerShort              ...                                                   \n",
       "aaron-hughes             ...    0.345236  0.489953     0.000000     0.000000   \n",
       "aaron-hunt               ...    0.348943  0.450376     0.003435     0.003428   \n",
       "aaron-lennon             ...    0.345893  0.491482     0.000000     0.000000   \n",
       "aaron-ramsey             ...    0.347013  0.511374     0.003450     0.003465   \n",
       "abdelhamid-el-kaoutari   ...    0.331600  0.335587     0.018091     0.018168   \n",
       "\n",
       "                        IATYellowRedCards  ExpYellowRedCards  IATYellowCards  \\\n",
       "playerShort                                                                    \n",
       "aaron-hughes                     0.000000           0.000000        0.040634   \n",
       "aaron-hunt                       0.000000           0.000000        0.146678   \n",
       "aaron-lennon                     0.000000           0.000000        0.036158   \n",
       "aaron-ramsey                     0.000000           0.000000        0.107859   \n",
       "abdelhamid-el-kaoutari           0.036675           0.039297        0.072364   \n",
       "\n",
       "                        ExpYellowCards  weight  height  \n",
       "playerShort                                             \n",
       "aaron-hughes                  0.052094    71.0   182.0  \n",
       "aaron-hunt                    0.166008    73.0   183.0  \n",
       "aaron-lennon                  0.043801    63.0   165.0  \n",
       "aaron-ramsey                  0.137232    76.0   178.0  \n",
       "abdelhamid-el-kaoutari        0.072670    73.0   180.0  \n",
       "\n",
       "[5 rows x 35 columns]"
      ]
     },
     "execution_count": 13,
     "metadata": {},
     "output_type": "execute_result"
    }
   ],
   "source": [
    "df_agg.head()"
   ]
  },
  {
   "cell_type": "code",
   "execution_count": 14,
   "metadata": {
    "collapsed": false
   },
   "outputs": [
    {
     "data": {
      "text/plain": [
       "Index(['games', 'victories', 'ties', 'defeats', 'goals', 'yellowCards',\n",
       "       'yellowReds', 'redCards', 'skinColor', 'Attacking Midfielder',\n",
       "       'Center Back', 'Center Forward', 'Center Midfielder',\n",
       "       'Defensive Midfielder', 'Goalkeeper', 'Left Fullback',\n",
       "       'Left Midfielder', 'Left Winger', 'Right Fullback', 'Right Midfielder',\n",
       "       'Right Winger', 'England', 'France', 'Germany', 'Spain', 'meanIAT',\n",
       "       'meanExp', 'IATRedCards', 'ExpRedCards', 'IATYellowRedCards',\n",
       "       'ExpYellowRedCards', 'IATYellowCards', 'ExpYellowCards', 'weight',\n",
       "       'height'],\n",
       "      dtype='object')"
      ]
     },
     "execution_count": 14,
     "metadata": {},
     "output_type": "execute_result"
    }
   ],
   "source": [
    "df_agg.columns"
   ]
  },
  {
   "cell_type": "markdown",
   "metadata": {},
   "source": [
    "## Making the model\n"
   ]
  },
  {
   "cell_type": "markdown",
   "metadata": {},
   "source": [
    "### Helper functions"
   ]
  },
  {
   "cell_type": "code",
   "execution_count": 15,
   "metadata": {
    "collapsed": true
   },
   "outputs": [],
   "source": [
    "# Helper function for displaying feature importance\n",
    "def feature_importance(X, features, n_most_important_features=5):\n",
    "    \"\"\"\n",
    "    Prints the n most important features of the classifier in order\n",
    "    Format: (feature_name, importance)\n",
    "    @param X: The data matrix\n",
    "    @param features: clf.feature_importances_\n",
    "    @param n_most_important_features\n",
    "    \"\"\"\n",
    "    feature_importance = {}\n",
    "    for x,y in zip(X.columns,features):\n",
    "        feature_importance[x]=y\n",
    "    import operator\n",
    "    sorted_feature_importance = sorted(feature_importance.items(), key=operator.itemgetter(1),reverse=True)\n",
    "    for i in range(min(len(features),n_most_important_features)):\n",
    "        print (sorted_feature_importance[i])\n",
    "    \n",
    "    return sorted_feature_importance"
   ]
  },
  {
   "cell_type": "code",
   "execution_count": 16,
   "metadata": {
    "collapsed": true
   },
   "outputs": [],
   "source": [
    "# Helper function for plotting learning curves\n",
    "def plot_learning_curve(title, estimator, X, y, cv=30):\n",
    "    \"\"\"\n",
    "    Generate a simple plot of the test and training learning curve.\n",
    "\n",
    "    Parameters\n",
    "    ----------\n",
    "    title : string\n",
    "        Title for the chart.\n",
    "        \n",
    "    estimator: clf\n",
    "\n",
    "    X : array-like, shape (n_samples, n_features)\n",
    "        Training vector, where n_samples is the number of samples and\n",
    "        n_features is the number of features.\n",
    "\n",
    "    y : array-like, shape (n_samples) or (n_samples, n_features), optional\n",
    "        Target relative to X for classification or regression;\n",
    "        None for unsupervised learning.\n",
    "\n",
    "    cv : int, cross-validation generator or an iterable, optional\n",
    "        Determines the cross-validation splitting strategy.\n",
    "    \"\"\"\n",
    "    plt.figure()\n",
    "    plt.title(title)\n",
    "\n",
    "    plt.xlabel(\"Training examples\")\n",
    "    plt.ylabel(\"Score\")\n",
    "    \n",
    "    train_sizes, train_scores, test_scores = learning_curve(estimator, X, y, cv=cv, n_jobs=-1)\n",
    "    train_scores_mean = np.mean(train_scores, axis=1)\n",
    "    train_scores_std = np.std(train_scores, axis=1)\n",
    "    test_scores_mean = np.mean(test_scores, axis=1)\n",
    "    test_scores_std = np.std(test_scores, axis=1)\n",
    "    plt.grid()\n",
    "\n",
    "    plt.fill_between(train_sizes, train_scores_mean - train_scores_std,\n",
    "                     train_scores_mean + train_scores_std, alpha=0.1,\n",
    "                     color=\"r\")\n",
    "    plt.fill_between(train_sizes, test_scores_mean - test_scores_std,\n",
    "                     test_scores_mean + test_scores_std, alpha=0.1, color=\"g\")\n",
    "    plt.plot(train_sizes, train_scores_mean, 'o-', color=\"r\",\n",
    "             label=\"Training score\")\n",
    "    plt.plot(train_sizes, test_scores_mean, 'o-', color=\"g\",\n",
    "             label=\"Cross-validation score\")\n",
    "\n",
    "    plt.legend(loc=\"best\")\n",
    "    return plt"
   ]
  },
  {
   "cell_type": "markdown",
   "metadata": {},
   "source": [
    "### Model 1: Baseline model, only based on cards\n",
    "\n",
    "We start off with a simple model."
   ]
  },
  {
   "cell_type": "code",
   "execution_count": 17,
   "metadata": {
    "collapsed": false
   },
   "outputs": [],
   "source": [
    "clf = RandomForestClassifier(n_estimators=500, max_features='log2', max_depth=8, min_samples_leaf=2)\n",
    "Y = np.asarray(df_agg['skinColor'], dtype='str')\n",
    "X = df_agg[['yellowCards','yellowReds', 'redCards']]"
   ]
  },
  {
   "cell_type": "code",
   "execution_count": 18,
   "metadata": {
    "collapsed": false,
    "scrolled": true
   },
   "outputs": [
    {
     "data": {
      "text/plain": [
       "Index(['yellowCards', 'yellowReds', 'redCards'], dtype='object')"
      ]
     },
     "execution_count": 18,
     "metadata": {},
     "output_type": "execute_result"
    }
   ],
   "source": [
    "X.columns  # Features in model"
   ]
  },
  {
   "cell_type": "code",
   "execution_count": 19,
   "metadata": {
    "collapsed": false
   },
   "outputs": [
    {
     "name": "stdout",
     "output_type": "stream",
     "text": [
      "Cross validation scores:\n",
      "[ 0.825       0.825       0.825       0.825       0.825       0.825       0.825\n",
      "  0.825       0.8         0.83544304  0.83544304  0.84810127  0.84810127\n",
      "  0.83544304  0.83544304  0.83333333  0.83333333  0.83333333  0.83333333\n",
      "  0.83333333]\n",
      "Features ranked by importance:\n",
      "('yellowCards', 0.67945501160402511)\n",
      "('redCards', 0.16585642831519079)\n",
      "('yellowReds', 0.15468856008078427)\n"
     ]
    },
    {
     "data": {
      "text/plain": [
       "[('yellowCards', 0.67945501160402511),\n",
       " ('redCards', 0.16585642831519079),\n",
       " ('yellowReds', 0.15468856008078427)]"
      ]
     },
     "execution_count": 19,
     "metadata": {},
     "output_type": "execute_result"
    }
   ],
   "source": [
    "print ('Cross validation scores:')\n",
    "print(cross_val_score(clf, X, Y, cv=20, scoring='accuracy'))\n",
    "clf.fit(X,Y)\n",
    "print('Features ranked by importance:')\n",
    "feature_importance(X, clf.feature_importances_)"
   ]
  },
  {
   "cell_type": "code",
   "execution_count": 20,
   "metadata": {
    "collapsed": false
   },
   "outputs": [
    {
     "data": {
      "image/png": "[encoded data removed]",
      "text/plain": [
       "<matplotlib.figure.Figure at 0x116150a20>"
      ]
     },
     "metadata": {},
     "output_type": "display_data"
    }
   ],
   "source": [
    "title = \"Learning Curves (RandomForestClassifier) - Model 1\"\n",
    "\n",
    "plot_learning_curve(title, clf, X, Y)\n",
    "\n",
    "plt.show()"
   ]
  },
  {
   "cell_type": "markdown",
   "metadata": {},
   "source": [
    "### Model 2: Model with all raw data that came out of preprocessing (no combined features)\n",
    "\n",
    "We decide to keep meanIAT and meanExp. As we have aggregated by player, they represent the average amount of bias the players receive over all the referees they meet. "
   ]
  },
  {
   "cell_type": "code",
   "execution_count": 21,
   "metadata": {
    "collapsed": false
   },
   "outputs": [],
   "source": [
    "clf = RandomForestClassifier(n_estimators=500, max_features='log2', max_depth=8, min_samples_leaf=2)\n",
    "Y = np.asarray(df_agg['skinColor'], dtype='str')\n",
    "X = df_agg.drop(['skinColor','IATRedCards','ExpRedCards', 'IATYellowRedCards', 'ExpYellowRedCards','IATYellowCards', 'ExpYellowCards' ], 1)"
   ]
  },
  {
   "cell_type": "code",
   "execution_count": 22,
   "metadata": {
    "collapsed": false,
    "scrolled": true
   },
   "outputs": [
    {
     "data": {
      "text/plain": [
       "Index(['games', 'victories', 'ties', 'defeats', 'goals', 'yellowCards',\n",
       "       'yellowReds', 'redCards', 'Attacking Midfielder', 'Center Back',\n",
       "       'Center Forward', 'Center Midfielder', 'Defensive Midfielder',\n",
       "       'Goalkeeper', 'Left Fullback', 'Left Midfielder', 'Left Winger',\n",
       "       'Right Fullback', 'Right Midfielder', 'Right Winger', 'England',\n",
       "       'France', 'Germany', 'Spain', 'meanIAT', 'meanExp', 'weight', 'height'],\n",
       "      dtype='object')"
      ]
     },
     "execution_count": 22,
     "metadata": {},
     "output_type": "execute_result"
    }
   ],
   "source": [
    "X.columns  # Features in model"
   ]
  },
  {
   "cell_type": "code",
   "execution_count": 23,
   "metadata": {
    "collapsed": false
   },
   "outputs": [
    {
     "name": "stdout",
     "output_type": "stream",
     "text": [
      "Cross validation scores:\n",
      "[ 0.825       0.8375      0.825       0.85        0.8375      0.825       0.825\n",
      "  0.8375      0.825       0.83544304  0.82278481  0.86075949  0.81012658\n",
      "  0.86075949  0.84810127  0.83333333  0.84615385  0.85897436  0.83333333\n",
      "  0.85897436]\n",
      "Features ranked by importance:\n",
      "('meanExp', 0.15300971317386439)\n",
      "('meanIAT', 0.128614250110129)\n",
      "('France', 0.07383889196707176)\n",
      "('victories', 0.072805034368449872)\n",
      "('games', 0.065768902712567176)\n",
      "('defeats', 0.061458164794504777)\n",
      "('goals', 0.05749778388895363)\n"
     ]
    }
   ],
   "source": [
    "print ('Cross validation scores:')\n",
    "print(cross_val_score(clf, X, Y, cv=20, scoring='accuracy'))\n",
    "clf.fit(X,Y)\n",
    "print('Features ranked by importance:')\n",
    "dropping_order = feature_importance(X, clf.feature_importances_, 7)"
   ]
  },
  {
   "cell_type": "code",
   "execution_count": 24,
   "metadata": {
    "collapsed": false
   },
   "outputs": [
    {
     "data": {
      "image/png": "[encoded data removed]",
      "text/plain": [
       "<matplotlib.figure.Figure at 0x1175dc128>"
      ]
     },
     "metadata": {},
     "output_type": "display_data"
    }
   ],
   "source": [
    "title = \"Learning Curves (RandomForestClassifier) - Model 2\"\n",
    "\n",
    "plot_learning_curve(title, clf, X, Y)\n",
    "\n",
    "plt.show()"
   ]
  },
  {
   "cell_type": "markdown",
   "metadata": {},
   "source": [
    "### Model 3: Model with added features that multiply the meanIAT and the meanExp with the red/yellow/yellowred cards values"
   ]
  },
  {
   "cell_type": "code",
   "execution_count": 25,
   "metadata": {
    "collapsed": false
   },
   "outputs": [],
   "source": [
    "clf = RandomForestClassifier(n_estimators=500, max_features='log2', max_depth=8, min_samples_leaf=2)\n",
    "Y = np.asarray(df_agg['skinColor'], dtype='str')\n",
    "X = df_agg.drop(['skinColor'], 1)"
   ]
  },
  {
   "cell_type": "code",
   "execution_count": 26,
   "metadata": {
    "collapsed": false,
    "scrolled": true
   },
   "outputs": [
    {
     "data": {
      "text/plain": [
       "Index(['games', 'victories', 'ties', 'defeats', 'goals', 'yellowCards',\n",
       "       'yellowReds', 'redCards', 'Attacking Midfielder', 'Center Back',\n",
       "       'Center Forward', 'Center Midfielder', 'Defensive Midfielder',\n",
       "       'Goalkeeper', 'Left Fullback', 'Left Midfielder', 'Left Winger',\n",
       "       'Right Fullback', 'Right Midfielder', 'Right Winger', 'England',\n",
       "       'France', 'Germany', 'Spain', 'meanIAT', 'meanExp', 'IATRedCards',\n",
       "       'ExpRedCards', 'IATYellowRedCards', 'ExpYellowRedCards',\n",
       "       'IATYellowCards', 'ExpYellowCards', 'weight', 'height'],\n",
       "      dtype='object')"
      ]
     },
     "execution_count": 26,
     "metadata": {},
     "output_type": "execute_result"
    }
   ],
   "source": [
    "X.columns  # Features in model"
   ]
  },
  {
   "cell_type": "code",
   "execution_count": 27,
   "metadata": {
    "collapsed": false,
    "scrolled": true
   },
   "outputs": [
    {
     "name": "stdout",
     "output_type": "stream",
     "text": [
      "Cross validation scores:\n",
      "[ 0.8375      0.8375      0.825       0.8375      0.8375      0.825       0.8375\n",
      "  0.825       0.825       0.86075949  0.81012658  0.88607595  0.81012658\n",
      "  0.86075949  0.84810127  0.83333333  0.84615385  0.85897436  0.83333333\n",
      "  0.85897436]\n",
      "Features ranked by importance:\n",
      "('meanExp', 0.12497179738523512)\n",
      "('meanIAT', 0.10506631618841619)\n",
      "('France', 0.075905269455408542)\n",
      "('victories', 0.054740671118626807)\n",
      "('games', 0.05177354014084206)\n",
      "('ExpYellowCards', 0.049180274804652549)\n",
      "('goals', 0.048142147569686641)\n"
     ]
    },
    {
     "data": {
      "text/plain": [
       "[('meanExp', 0.12497179738523512),\n",
       " ('meanIAT', 0.10506631618841619),\n",
       " ('France', 0.075905269455408542),\n",
       " ('victories', 0.054740671118626807),\n",
       " ('games', 0.05177354014084206),\n",
       " ('ExpYellowCards', 0.049180274804652549),\n",
       " ('goals', 0.048142147569686641),\n",
       " ('IATYellowCards', 0.045896682104401475),\n",
       " ('defeats', 0.043823109298387126),\n",
       " ('ties', 0.038958915286858783),\n",
       " ('yellowCards', 0.037565374638671462),\n",
       " ('weight', 0.035863691129097972),\n",
       " ('ExpRedCards', 0.03159999336021916),\n",
       " ('Germany', 0.031186267644321287),\n",
       " ('height', 0.029499088142282623),\n",
       " ('IATRedCards', 0.028380907098637952),\n",
       " ('ExpYellowRedCards', 0.027779172303160338),\n",
       " ('IATYellowRedCards', 0.02686281581700322),\n",
       " ('Spain', 0.017998575292803288),\n",
       " ('Center Forward', 0.013300059418952142),\n",
       " ('yellowReds', 0.012801909240859584),\n",
       " ('England', 0.012110564753503805),\n",
       " ('Goalkeeper', 0.011845366542597165),\n",
       " ('redCards', 0.011037217811149601),\n",
       " ('Defensive Midfielder', 0.0058194854240818366),\n",
       " ('Center Back', 0.0050930390355094493),\n",
       " ('Right Winger', 0.0048705472815097932),\n",
       " ('Left Winger', 0.0047866224469941387),\n",
       " ('Attacking Midfielder', 0.0035190735214187673),\n",
       " ('Right Fullback', 0.0024602582097840047),\n",
       " ('Left Fullback', 0.0023606978727888652),\n",
       " ('Left Midfielder', 0.0021206477005886182),\n",
       " ('Right Midfielder', 0.0016850427385865683),\n",
       " ('Center Midfielder', 0.00099485922296324776)]"
      ]
     },
     "execution_count": 27,
     "metadata": {},
     "output_type": "execute_result"
    }
   ],
   "source": [
    "print ('Cross validation scores:')\n",
    "print(cross_val_score(clf, X, Y, cv=20, scoring='accuracy'))\n",
    "clf.fit(X,Y)\n",
    "print('Features ranked by importance:')\n",
    "feature_importance(X, clf.feature_importances_, 7)"
   ]
  },
  {
   "cell_type": "code",
   "execution_count": 28,
   "metadata": {
    "collapsed": false
   },
   "outputs": [
    {
     "data": {
      "image/png": "[encoded data removed]",
      "text/plain": [
       "<matplotlib.figure.Figure at 0x11664ca20>"
      ]
     },
     "metadata": {},
     "output_type": "display_data"
    }
   ],
   "source": [
    "title = \"Learning Curves (RandomForestClassifier) - Model 3\"\n",
    "\n",
    "plot_learning_curve(title, clf, X, Y)\n",
    "\n",
    "plt.show()"
   ]
  },
  {
   "cell_type": "markdown",
   "metadata": {
    "collapsed": false
   },
   "source": [
    "### Conclusions:\n",
    "\n",
    "By simply taking the cards as input data, we are able to make a pretty good prediction as to the skin color of the player (Model 1). This could lead to the conclusion that racial bias is a significant factor. The learning graph shows that the variance in model performance is very large for different folds in the cross-validation.\n",
    "\n",
    "By including data on the the racial biases of the referees (depending on the country they come from), we are able to improve the model by about 2 percentage points. But more importantly the model exhibits a significantly lower variance. This seems reasonable because these values show the way referees give out the cards differently to people of different color.\n",
    "\n",
    "Concerning the feature importance we see that in Model 1 that yellow cards have the greatest importance. Since giving a red card is a very strong decision it will be influenced less by racial bias. Giving a yellow card is a softer decision, thus leaving room for objectivity and influence. We can observe this by inspecting the feature importance. In Model 1 the most important feature is by far the amount of YellowCards received. In Model 2 the bias scores are the biggest influencers.\n",
    "\n",
    "This leads us to build the 3th model using a combination of the number of cards received and the bias scores. Our assumption is confirmed because the combination of bias scores with received yellow card are observed as important features. Although Model 3 does not score much higher, this leads to the conclusion that the extra features do not offer more added value than the average of meanIAT or meanExp over all refrees for a given player."
   ]
  },
  {
   "cell_type": "markdown",
   "metadata": {},
   "source": [
    "# Exercise 2"
   ]
  },
  {
   "cell_type": "markdown",
   "metadata": {},
   "source": [
    "### KMeans clustering while dropping features one by one\n",
    "\n",
    "We take the dropping order based on the reversed feature importance result given by Model 2."
   ]
  },
  {
   "cell_type": "code",
   "execution_count": 29,
   "metadata": {
    "collapsed": false
   },
   "outputs": [
    {
     "data": {
      "text/plain": [
       "['Center Midfielder',\n",
       " 'Left Midfielder',\n",
       " 'Right Midfielder',\n",
       " 'Right Fullback',\n",
       " 'Left Fullback',\n",
       " 'Attacking Midfielder',\n",
       " 'Defensive Midfielder',\n",
       " 'Center Back',\n",
       " 'Left Winger',\n",
       " 'Right Winger',\n",
       " 'Goalkeeper',\n",
       " 'England',\n",
       " 'Center Forward',\n",
       " 'redCards',\n",
       " 'yellowReds',\n",
       " 'Spain',\n",
       " 'height',\n",
       " 'Germany',\n",
       " 'weight',\n",
       " 'yellowCards',\n",
       " 'ties',\n",
       " 'goals',\n",
       " 'defeats',\n",
       " 'games',\n",
       " 'victories',\n",
       " 'France',\n",
       " 'meanIAT',\n",
       " 'meanExp']"
      ]
     },
     "execution_count": 29,
     "metadata": {},
     "output_type": "execute_result"
    }
   ],
   "source": [
    "drop_list = [x[0] for x in dropping_order]\n",
    "drop_list = drop_list[::-1]\n",
    "drop_list"
   ]
  },
  {
   "cell_type": "code",
   "execution_count": 30,
   "metadata": {
    "collapsed": true
   },
   "outputs": [],
   "source": [
    "def silhouette_score_drop(df, c_drop, n_clust):\n",
    "    while len(c_drop) > 0:\n",
    "        kmeans = KMeans(n_clusters=n_clust, init='k-means++').fit(df[c_drop])\n",
    "        print(\"- Mixed percentage: \", abs(df['skinColor'] - kmeans.labels_).sum()/df.shape[0])\n",
    "        print(\"- Silhouette score: \", silhouette_score(df[c_drop], kmeans.labels_, metric='euclidean'))\n",
    "        print(\"- Confusion matrix: \\n\", confusion_matrix(df['skinColor'], kmeans.labels_))\n",
    "        print(\"------------------------------------------------\")\n",
    "        c_drop = c_drop[1:]"
   ]
  },
  {
   "cell_type": "code",
   "execution_count": 31,
   "metadata": {
    "collapsed": false
   },
   "outputs": [
    {
     "name": "stdout",
     "output_type": "stream",
     "text": [
      "- Mixed percentage:  0.4059343434343434\n",
      "- Silhouette score:  0.541471118982\n",
      "- Confusion matrix: \n",
      " [[868 447]\n",
      " [196  73]]\n",
      "------------------------------------------------\n",
      "- Mixed percentage:  0.4059343434343434\n",
      "- Silhouette score:  0.541472331339\n",
      "- Confusion matrix: \n",
      " [[868 447]\n",
      " [196  73]]\n",
      "------------------------------------------------\n",
      "- Mixed percentage:  0.4059343434343434\n",
      "- Silhouette score:  0.541473882877\n",
      "- Confusion matrix: \n",
      " [[868 447]\n",
      " [196  73]]\n",
      "------------------------------------------------\n",
      "- Mixed percentage:  0.4059343434343434\n",
      "- Silhouette score:  0.541475217978\n",
      "- Confusion matrix: \n",
      " [[868 447]\n",
      " [196  73]]\n",
      "------------------------------------------------\n",
      "- Mixed percentage:  0.4059343434343434\n",
      "- Silhouette score:  0.541477330384\n",
      "- Confusion matrix: \n",
      " [[868 447]\n",
      " [196  73]]\n",
      "------------------------------------------------\n",
      "- Mixed percentage:  0.5940656565656566\n",
      "- Silhouette score:  0.541479821348\n",
      "- Confusion matrix: \n",
      " [[447 868]\n",
      " [ 73 196]]\n",
      "------------------------------------------------\n",
      "- Mixed percentage:  0.5940656565656566\n",
      "- Silhouette score:  0.541482165844\n",
      "- Confusion matrix: \n",
      " [[447 868]\n",
      " [ 73 196]]\n",
      "------------------------------------------------\n",
      "- Mixed percentage:  0.5940656565656566\n",
      "- Silhouette score:  0.5414855082\n",
      "- Confusion matrix: \n",
      " [[447 868]\n",
      " [ 73 196]]\n",
      "------------------------------------------------\n",
      "- Mixed percentage:  0.5940656565656566\n",
      "- Silhouette score:  0.541491809628\n",
      "- Confusion matrix: \n",
      " [[447 868]\n",
      " [ 73 196]]\n",
      "------------------------------------------------\n",
      "- Mixed percentage:  0.5940656565656566\n",
      "- Silhouette score:  0.541492862858\n",
      "- Confusion matrix: \n",
      " [[447 868]\n",
      " [ 73 196]]\n",
      "------------------------------------------------\n",
      "- Mixed percentage:  0.4059343434343434\n",
      "- Silhouette score:  0.541493873417\n",
      "- Confusion matrix: \n",
      " [[868 447]\n",
      " [196  73]]\n",
      "------------------------------------------------\n",
      "- Mixed percentage:  0.5940656565656566\n",
      "- Silhouette score:  0.541496777061\n",
      "- Confusion matrix: \n",
      " [[447 868]\n",
      " [ 73 196]]\n",
      "------------------------------------------------\n",
      "- Mixed percentage:  0.4059343434343434\n",
      "- Silhouette score:  0.541501896524\n",
      "- Confusion matrix: \n",
      " [[868 447]\n",
      " [196  73]]\n",
      "------------------------------------------------\n",
      "- Mixed percentage:  0.4059343434343434\n",
      "- Silhouette score:  0.541504880387\n",
      "- Confusion matrix: \n",
      " [[868 447]\n",
      " [196  73]]\n",
      "------------------------------------------------\n",
      "- Mixed percentage:  0.4059343434343434\n",
      "- Silhouette score:  0.541542992556\n",
      "- Confusion matrix: \n",
      " [[868 447]\n",
      " [196  73]]\n",
      "------------------------------------------------\n",
      "- Mixed percentage:  0.5940656565656566\n",
      "- Silhouette score:  0.541587273588\n",
      "- Confusion matrix: \n",
      " [[447 868]\n",
      " [ 73 196]]\n",
      "------------------------------------------------\n",
      "- Mixed percentage:  0.5940656565656566\n",
      "- Silhouette score:  0.541593987343\n",
      "- Confusion matrix: \n",
      " [[447 868]\n",
      " [ 73 196]]\n",
      "------------------------------------------------\n",
      "- Mixed percentage:  0.5940656565656566\n",
      "- Silhouette score:  0.543045618132\n",
      "- Confusion matrix: \n",
      " [[447 868]\n",
      " [ 73 196]]\n",
      "------------------------------------------------\n",
      "- Mixed percentage:  0.5940656565656566\n",
      "- Silhouette score:  0.543053048732\n",
      "- Confusion matrix: \n",
      " [[447 868]\n",
      " [ 73 196]]\n",
      "------------------------------------------------\n",
      "- Mixed percentage:  0.4059343434343434\n",
      "- Silhouette score:  0.544730157\n",
      "- Confusion matrix: \n",
      " [[868 447]\n",
      " [196  73]]\n",
      "------------------------------------------------\n",
      "- Mixed percentage:  0.4034090909090909\n",
      "- Silhouette score:  0.553320950791\n",
      "- Confusion matrix: \n",
      " [[874 441]\n",
      " [198  71]]\n",
      "------------------------------------------------\n",
      "- Mixed percentage:  0.5978535353535354\n",
      "- Silhouette score:  0.555137034617\n",
      "- Confusion matrix: \n",
      " [[440 875]\n",
      " [ 72 197]]\n",
      "------------------------------------------------\n",
      "- Mixed percentage:  0.6003787878787878\n",
      "- Silhouette score:  0.575843317898\n",
      "- Confusion matrix: \n",
      " [[436 879]\n",
      " [ 72 197]]\n",
      "------------------------------------------------\n",
      "- Mixed percentage:  0.39457070707070707\n",
      "- Silhouette score:  0.588318959958\n",
      "- Confusion matrix: \n",
      " [[888 427]\n",
      " [198  71]]\n",
      "------------------------------------------------\n",
      "- Mixed percentage:  0.3453282828282828\n",
      "- Silhouette score:  0.633827067402\n",
      "- Confusion matrix: \n",
      " [[984 331]\n",
      " [216  53]]\n",
      "------------------------------------------------\n",
      "- Mixed percentage:  0.2152777777777778\n",
      "- Silhouette score:  0.903230336046\n",
      "- Confusion matrix: \n",
      " [[1138  177]\n",
      " [ 164  105]]\n",
      "------------------------------------------------\n",
      "- Mixed percentage:  0.4652777777777778\n",
      "- Silhouette score:  0.612543029731\n",
      "- Confusion matrix: \n",
      " [[639 676]\n",
      " [ 61 208]]\n",
      "------------------------------------------------\n",
      "- Mixed percentage:  0.5340909090909091\n",
      "- Silhouette score:  0.616482734328\n",
      "- Confusion matrix: \n",
      " [[677 638]\n",
      " [208  61]]\n",
      "------------------------------------------------\n"
     ]
    }
   ],
   "source": [
    "silhouette_score_drop(df_agg, drop_list, 2)"
   ]
  },
  {
   "cell_type": "markdown",
   "metadata": {},
   "source": [
    "The above iterative dropping of features gives us a clustering in 2 groups with a silhouette score 0.9 where playes with dark or light skin are mixed. This shows that the mean bias scores are not decisive for the skin color of the players"
   ]
  },
  {
   "cell_type": "code",
   "execution_count": 33,
   "metadata": {
    "collapsed": false
   },
   "outputs": [
    {
     "name": "stdout",
     "output_type": "stream",
     "text": [
      "- Mixed percentage:  0.2152777777777778\n",
      "- Silhouette score:  0.903230336046\n",
      "- Confusion matrix: \n",
      " [[1138  177]\n",
      " [ 164  105]]\n"
     ]
    }
   ],
   "source": [
    "# the best clustering from the iterative dropping\n",
    "kmeans = KMeans(n_clusters=2, init='k-means++').fit(df_agg[['France','meanIAT','meanExp']])\n",
    "print(\"- Mixed percentage: \", abs(df_agg['skinColor'] - kmeans.labels_).sum()/df_agg.shape[0])\n",
    "print(\"- Silhouette score: \", silhouette_score(df_agg[['France','meanIAT','meanExp']], kmeans.labels_, metric='euclidean'))\n",
    "print(\"- Confusion matrix: \\n\", confusion_matrix(df_agg['skinColor'], kmeans.labels_))"
   ]
  },
  {
   "cell_type": "code",
   "execution_count": 64,
   "metadata": {
    "collapsed": false
   },
   "outputs": [
    {
     "name": "stdout",
     "output_type": "stream",
     "text": [
      "- Mixed percentage:  0.32007575757575757\n",
      "- Silhouette score:  0.66881197666\n",
      "- Confusion matrix: \n",
      " [[1055  260]\n",
      " [ 247   22]]\n"
     ]
    }
   ],
   "source": [
    "# clustering only based on ExpYellowCards\n",
    "kmeans = KMeans(n_clusters=2, init='k-means++').fit(df_agg[['ExpYellowCards']])\n",
    "print(\"- Mixed percentage: \", abs(df_agg['skinColor'] - kmeans.labels_).sum()/df_agg.shape[0])\n",
    "print(\"- Silhouette score: \", silhouette_score(df_agg[['ExpYellowCards']], kmeans.labels_, metric='euclidean'))\n",
    "print(\"- Confusion matrix: \\n\", confusion_matrix(df_agg['skinColor'], kmeans.labels_))"
   ]
  },
  {
   "cell_type": "markdown",
   "metadata": {},
   "source": [
    "When we only take into accout the ExpYellowCards, a value that is high when a player received a lot of yellow cards from a biased refree the clusters are not of good quality and the players are mixed over both. We can conclude that the bias of the refree is definitely a factor, but not as large as expected."
   ]
  },
  {
   "cell_type": "code",
   "execution_count": null,
   "metadata": {
    "collapsed": true
   },
   "outputs": [],
   "source": []
  }
 ],
 "metadata": {
  "anaconda-cloud": {},
  "kernelspec": {
   "display_name": "Python [Root]",
   "language": "python",
   "name": "Python [Root]"
  },
  "language_info": {
   "codemirror_mode": {
    "name": "ipython",
    "version": 3
   },
   "file_extension": ".py",
   "mimetype": "text/x-python",
   "name": "python",
   "nbconvert_exporter": "python",
   "pygments_lexer": "ipython3",
   "version": "3.5.2"
  }
 },
 "nbformat": 4,
 "nbformat_minor": 0
}
